{
 "cells": [
  {
   "cell_type": "code",
   "execution_count": 1,
   "metadata": {},
   "outputs": [],
   "source": [
    "import pandas as pd\n",
    "import matplotlib.pyplot as plt\n",
    "import seaborn as sns \n",
    "import numpy as np"
   ]
  },
  {
   "cell_type": "code",
   "execution_count": 2,
   "metadata": {},
   "outputs": [],
   "source": [
    "df=pd.read_csv(r\"C:\\Users\\TOSHIBA\\Documents\\Practice\\Project to be updated on CV\\Uber Data Analysis\\Uber Request Data.csv\")"
   ]
  },
  {
   "cell_type": "code",
   "execution_count": 3,
   "metadata": {},
   "outputs": [
    {
     "data": {
      "text/html": [
       "<div>\n",
       "<style scoped>\n",
       "    .dataframe tbody tr th:only-of-type {\n",
       "        vertical-align: middle;\n",
       "    }\n",
       "\n",
       "    .dataframe tbody tr th {\n",
       "        vertical-align: top;\n",
       "    }\n",
       "\n",
       "    .dataframe thead th {\n",
       "        text-align: right;\n",
       "    }\n",
       "</style>\n",
       "<table border=\"1\" class=\"dataframe\">\n",
       "  <thead>\n",
       "    <tr style=\"text-align: right;\">\n",
       "      <th></th>\n",
       "      <th>Request id</th>\n",
       "      <th>Pickup point</th>\n",
       "      <th>Driver id</th>\n",
       "      <th>Status</th>\n",
       "      <th>Request timestamp</th>\n",
       "      <th>Drop timestamp</th>\n",
       "    </tr>\n",
       "  </thead>\n",
       "  <tbody>\n",
       "    <tr>\n",
       "      <th>0</th>\n",
       "      <td>619</td>\n",
       "      <td>Airport</td>\n",
       "      <td>1.0</td>\n",
       "      <td>Trip Completed</td>\n",
       "      <td>11/7/2016 11:51</td>\n",
       "      <td>11/7/2016 13:00</td>\n",
       "    </tr>\n",
       "    <tr>\n",
       "      <th>1</th>\n",
       "      <td>867</td>\n",
       "      <td>Airport</td>\n",
       "      <td>1.0</td>\n",
       "      <td>Trip Completed</td>\n",
       "      <td>11/7/2016 17:57</td>\n",
       "      <td>11/7/2016 18:47</td>\n",
       "    </tr>\n",
       "    <tr>\n",
       "      <th>2</th>\n",
       "      <td>1807</td>\n",
       "      <td>City</td>\n",
       "      <td>1.0</td>\n",
       "      <td>Trip Completed</td>\n",
       "      <td>12/7/2016 9:17</td>\n",
       "      <td>12/7/2016 9:58</td>\n",
       "    </tr>\n",
       "    <tr>\n",
       "      <th>3</th>\n",
       "      <td>2532</td>\n",
       "      <td>Airport</td>\n",
       "      <td>1.0</td>\n",
       "      <td>Trip Completed</td>\n",
       "      <td>12/7/2016 21:08</td>\n",
       "      <td>12/7/2016 22:03</td>\n",
       "    </tr>\n",
       "    <tr>\n",
       "      <th>4</th>\n",
       "      <td>3112</td>\n",
       "      <td>City</td>\n",
       "      <td>1.0</td>\n",
       "      <td>Trip Completed</td>\n",
       "      <td>13-07-2016 08:33:16</td>\n",
       "      <td>13-07-2016 09:25:47</td>\n",
       "    </tr>\n",
       "  </tbody>\n",
       "</table>\n",
       "</div>"
      ],
      "text/plain": [
       "   Request id Pickup point  Driver id          Status    Request timestamp  \\\n",
       "0         619      Airport        1.0  Trip Completed      11/7/2016 11:51   \n",
       "1         867      Airport        1.0  Trip Completed      11/7/2016 17:57   \n",
       "2        1807         City        1.0  Trip Completed       12/7/2016 9:17   \n",
       "3        2532      Airport        1.0  Trip Completed      12/7/2016 21:08   \n",
       "4        3112         City        1.0  Trip Completed  13-07-2016 08:33:16   \n",
       "\n",
       "        Drop timestamp  \n",
       "0      11/7/2016 13:00  \n",
       "1      11/7/2016 18:47  \n",
       "2       12/7/2016 9:58  \n",
       "3      12/7/2016 22:03  \n",
       "4  13-07-2016 09:25:47  "
      ]
     },
     "execution_count": 3,
     "metadata": {},
     "output_type": "execute_result"
    }
   ],
   "source": [
    "df.head()"
   ]
  },
  {
   "cell_type": "code",
   "execution_count": 4,
   "metadata": {},
   "outputs": [
    {
     "data": {
      "text/plain": [
       "(6745, 6)"
      ]
     },
     "execution_count": 4,
     "metadata": {},
     "output_type": "execute_result"
    }
   ],
   "source": [
    "df.shape"
   ]
  },
  {
   "cell_type": "code",
   "execution_count": 5,
   "metadata": {},
   "outputs": [
    {
     "data": {
      "text/plain": [
       "6745"
      ]
     },
     "execution_count": 5,
     "metadata": {},
     "output_type": "execute_result"
    }
   ],
   "source": [
    "len(df[\"Request id\"].unique())"
   ]
  },
  {
   "cell_type": "code",
   "execution_count": 6,
   "metadata": {},
   "outputs": [
    {
     "data": {
      "text/plain": [
       "Request id              0\n",
       "Pickup point            0\n",
       "Driver id            2650\n",
       "Status                  0\n",
       "Request timestamp       0\n",
       "Drop timestamp       3914\n",
       "dtype: int64"
      ]
     },
     "execution_count": 6,
     "metadata": {},
     "output_type": "execute_result"
    }
   ],
   "source": [
    "df.isnull().sum()"
   ]
  },
  {
   "cell_type": "code",
   "execution_count": 8,
   "metadata": {},
   "outputs": [
    {
     "data": {
      "text/plain": [
       "Request id            0.000000\n",
       "Pickup point          0.000000\n",
       "Driver id            39.288362\n",
       "Status                0.000000\n",
       "Request timestamp     0.000000\n",
       "Drop timestamp       58.028169\n",
       "dtype: float64"
      ]
     },
     "execution_count": 8,
     "metadata": {},
     "output_type": "execute_result"
    }
   ],
   "source": [
    "percentage_missing =df.isnull().sum()/df.shape[0]*100\n",
    "percentage_missing"
   ]
  },
  {
   "cell_type": "code",
   "execution_count": 11,
   "metadata": {},
   "outputs": [
    {
     "data": {
      "text/plain": [
       "(City       3507\n",
       " Airport    3238\n",
       " Name: Pickup point, dtype: int64,\n",
       " Trip Completed       2831\n",
       " No Cars Available    2650\n",
       " Cancelled            1264\n",
       " Name: Status, dtype: int64)"
      ]
     },
     "execution_count": 11,
     "metadata": {},
     "output_type": "execute_result"
    }
   ],
   "source": [
    "df[\"Pickup point\"].value_counts()"
   ]
  },
  {
   "cell_type": "code",
   "execution_count": 17,
   "metadata": {},
   "outputs": [
    {
     "data": {
      "text/plain": [
       "Trip Completed       2831\n",
       "No Cars Available    2650\n",
       "Cancelled            1264\n",
       "Name: Status, dtype: int64"
      ]
     },
     "execution_count": 17,
     "metadata": {},
     "output_type": "execute_result"
    }
   ],
   "source": [
    "df[\"Status\"].value_counts()"
   ]
  },
  {
   "cell_type": "code",
   "execution_count": 12,
   "metadata": {},
   "outputs": [
    {
     "name": "stdout",
     "output_type": "stream",
     "text": [
      "<class 'pandas.core.frame.DataFrame'>\n",
      "RangeIndex: 6745 entries, 0 to 6744\n",
      "Data columns (total 6 columns):\n",
      " #   Column             Non-Null Count  Dtype  \n",
      "---  ------             --------------  -----  \n",
      " 0   Request id         6745 non-null   int64  \n",
      " 1   Pickup point       6745 non-null   object \n",
      " 2   Driver id          4095 non-null   float64\n",
      " 3   Status             6745 non-null   object \n",
      " 4   Request timestamp  6745 non-null   object \n",
      " 5   Drop timestamp     2831 non-null   object \n",
      "dtypes: float64(1), int64(1), object(4)\n",
      "memory usage: 316.3+ KB\n"
     ]
    }
   ],
   "source": [
    "df.info()"
   ]
  },
  {
   "cell_type": "code",
   "execution_count": 54,
   "metadata": {},
   "outputs": [
    {
     "data": {
      "text/plain": [
       "11/7/2016 19:02        6\n",
       "11/7/2016 9:40         6\n",
       "11/7/2016 8:37         6\n",
       "11/7/2016 17:57        6\n",
       "11/7/2016 5:12         5\n",
       "                      ..\n",
       "15-07-2016 20:33:46    1\n",
       "13-07-2016 09:24:46    1\n",
       "14-07-2016 13:01:57    1\n",
       "14-07-2016 07:32:52    1\n",
       "15-07-2016 13:03:25    1\n",
       "Name: Request timestamp, Length: 5618, dtype: int64"
      ]
     },
     "execution_count": 54,
     "metadata": {},
     "output_type": "execute_result"
    }
   ],
   "source": [
    "df[\"Request timestamp\"].value_counts()"
   ]
  },
  {
   "cell_type": "code",
   "execution_count": 13,
   "metadata": {},
   "outputs": [],
   "source": [
    "df[\"Request timestamp\"]=df[\"Request timestamp\"].astype(str)"
   ]
  },
  {
   "cell_type": "code",
   "execution_count": 14,
   "metadata": {},
   "outputs": [],
   "source": [
    "df[\"Request timestamp\"]=df[\"Request timestamp\"].replace(\"/\",\"-\")"
   ]
  },
  {
   "cell_type": "code",
   "execution_count": 15,
   "metadata": {},
   "outputs": [],
   "source": [
    "df[\"Request timestamp\"]=pd.to_datetime(df[\"Request timestamp\"],dayfirst=True)"
   ]
  },
  {
   "cell_type": "code",
   "execution_count": 18,
   "metadata": {},
   "outputs": [
    {
     "data": {
      "text/plain": [
       "0      2016-07-11 11:51:00\n",
       "1      2016-07-11 17:57:00\n",
       "2      2016-07-12 09:17:00\n",
       "3      2016-07-12 21:08:00\n",
       "4      2016-07-13 08:33:16\n",
       "               ...        \n",
       "6740   2016-07-15 23:49:03\n",
       "6741   2016-07-15 23:50:05\n",
       "6742   2016-07-15 23:52:06\n",
       "6743   2016-07-15 23:54:39\n",
       "6744   2016-07-15 23:55:03\n",
       "Name: Request timestamp, Length: 6745, dtype: datetime64[ns]"
      ]
     },
     "execution_count": 18,
     "metadata": {},
     "output_type": "execute_result"
    }
   ],
   "source": [
    "df[\"Request timestamp\"]"
   ]
  },
  {
   "cell_type": "code",
   "execution_count": 16,
   "metadata": {},
   "outputs": [
    {
     "data": {
      "text/plain": [
       "12/7/2016 6:22         4\n",
       "11/7/2016 13:00        4\n",
       "12/7/2016 21:53        4\n",
       "12/7/2016 21:04        4\n",
       "11/7/2016 7:50         3\n",
       "                      ..\n",
       "13-07-2016 08:44:39    1\n",
       "14-07-2016 13:45:28    1\n",
       "13-07-2016 05:56:07    1\n",
       "15-07-2016 07:17:47    1\n",
       "15-07-2016 12:04:15    1\n",
       "Name: Drop timestamp, Length: 2598, dtype: int64"
      ]
     },
     "execution_count": 16,
     "metadata": {},
     "output_type": "execute_result"
    }
   ],
   "source": [
    "df[\"Drop timestamp\"].value_counts()"
   ]
  },
  {
   "cell_type": "code",
   "execution_count": 19,
   "metadata": {},
   "outputs": [],
   "source": [
    "df[\"Drop timestamp\"]= df[\"Request timestamp\"].astype(str)\n",
    "df[\"Request timestamp\"]=df[\"Request timestamp\"].replace(\"/\",\"-\")\n",
    "df[\"Drop timestamp\"]=pd.to_datetime(df[\"Drop timestamp\"],dayfirst=True)"
   ]
  },
  {
   "cell_type": "code",
   "execution_count": 22,
   "metadata": {},
   "outputs": [
    {
     "data": {
      "text/plain": [
       "2016-07-11 17:57:00    6\n",
       "2016-07-11 19:02:00    6\n",
       "2016-07-11 09:40:00    6\n",
       "2016-07-11 08:37:00    6\n",
       "2016-07-11 09:24:00    5\n",
       "Name: Drop timestamp, dtype: int64"
      ]
     },
     "execution_count": 22,
     "metadata": {},
     "output_type": "execute_result"
    }
   ],
   "source": [
    "df[\"Drop timestamp\"].value_counts().head()"
   ]
  },
  {
   "cell_type": "code",
   "execution_count": 20,
   "metadata": {},
   "outputs": [
    {
     "name": "stdout",
     "output_type": "stream",
     "text": [
      "<class 'pandas.core.frame.DataFrame'>\n",
      "RangeIndex: 6745 entries, 0 to 6744\n",
      "Data columns (total 6 columns):\n",
      " #   Column             Non-Null Count  Dtype         \n",
      "---  ------             --------------  -----         \n",
      " 0   Request id         6745 non-null   int64         \n",
      " 1   Pickup point       6745 non-null   object        \n",
      " 2   Driver id          4095 non-null   float64       \n",
      " 3   Status             6745 non-null   object        \n",
      " 4   Request timestamp  6745 non-null   datetime64[ns]\n",
      " 5   Drop timestamp     6745 non-null   datetime64[ns]\n",
      "dtypes: datetime64[ns](2), float64(1), int64(1), object(2)\n",
      "memory usage: 316.3+ KB\n"
     ]
    }
   ],
   "source": [
    "df.info()"
   ]
  },
  {
   "cell_type": "code",
   "execution_count": 23,
   "metadata": {},
   "outputs": [
    {
     "data": {
      "text/plain": [
       "0      2016-07-11 11:51:00\n",
       "1      2016-07-11 17:57:00\n",
       "2      2016-07-12 09:17:00\n",
       "3      2016-07-12 21:08:00\n",
       "4      2016-07-13 08:33:16\n",
       "               ...        \n",
       "6740   2016-07-15 23:49:03\n",
       "6741   2016-07-15 23:50:05\n",
       "6742   2016-07-15 23:52:06\n",
       "6743   2016-07-15 23:54:39\n",
       "6744   2016-07-15 23:55:03\n",
       "Name: Drop timestamp, Length: 6745, dtype: datetime64[ns]"
      ]
     },
     "execution_count": 23,
     "metadata": {},
     "output_type": "execute_result"
    }
   ],
   "source": [
    "df[\"Drop timestamp\"]"
   ]
  },
  {
   "cell_type": "code",
   "execution_count": 24,
   "metadata": {},
   "outputs": [],
   "source": [
    "df[\"req_hour\"]=df[\"Request timestamp\"].dt.hour"
   ]
  },
  {
   "cell_type": "code",
   "execution_count": 25,
   "metadata": {},
   "outputs": [],
   "source": [
    "df[\"req_day\"]=df[\"Request timestamp\"].dt.day"
   ]
  },
  {
   "cell_type": "code",
   "execution_count": 27,
   "metadata": {},
   "outputs": [
    {
     "data": {
      "text/html": [
       "<div>\n",
       "<style scoped>\n",
       "    .dataframe tbody tr th:only-of-type {\n",
       "        vertical-align: middle;\n",
       "    }\n",
       "\n",
       "    .dataframe tbody tr th {\n",
       "        vertical-align: top;\n",
       "    }\n",
       "\n",
       "    .dataframe thead th {\n",
       "        text-align: right;\n",
       "    }\n",
       "</style>\n",
       "<table border=\"1\" class=\"dataframe\">\n",
       "  <thead>\n",
       "    <tr style=\"text-align: right;\">\n",
       "      <th></th>\n",
       "      <th>Request id</th>\n",
       "      <th>Pickup point</th>\n",
       "      <th>Driver id</th>\n",
       "      <th>Status</th>\n",
       "      <th>Request timestamp</th>\n",
       "      <th>Drop timestamp</th>\n",
       "      <th>req_hour</th>\n",
       "      <th>req_day</th>\n",
       "    </tr>\n",
       "  </thead>\n",
       "  <tbody>\n",
       "    <tr>\n",
       "      <th>0</th>\n",
       "      <td>619</td>\n",
       "      <td>Airport</td>\n",
       "      <td>1.0</td>\n",
       "      <td>Trip Completed</td>\n",
       "      <td>2016-07-11 11:51:00</td>\n",
       "      <td>2016-07-11 11:51:00</td>\n",
       "      <td>11</td>\n",
       "      <td>11</td>\n",
       "    </tr>\n",
       "    <tr>\n",
       "      <th>1</th>\n",
       "      <td>867</td>\n",
       "      <td>Airport</td>\n",
       "      <td>1.0</td>\n",
       "      <td>Trip Completed</td>\n",
       "      <td>2016-07-11 17:57:00</td>\n",
       "      <td>2016-07-11 17:57:00</td>\n",
       "      <td>17</td>\n",
       "      <td>11</td>\n",
       "    </tr>\n",
       "    <tr>\n",
       "      <th>2</th>\n",
       "      <td>1807</td>\n",
       "      <td>City</td>\n",
       "      <td>1.0</td>\n",
       "      <td>Trip Completed</td>\n",
       "      <td>2016-07-12 09:17:00</td>\n",
       "      <td>2016-07-12 09:17:00</td>\n",
       "      <td>9</td>\n",
       "      <td>12</td>\n",
       "    </tr>\n",
       "    <tr>\n",
       "      <th>3</th>\n",
       "      <td>2532</td>\n",
       "      <td>Airport</td>\n",
       "      <td>1.0</td>\n",
       "      <td>Trip Completed</td>\n",
       "      <td>2016-07-12 21:08:00</td>\n",
       "      <td>2016-07-12 21:08:00</td>\n",
       "      <td>21</td>\n",
       "      <td>12</td>\n",
       "    </tr>\n",
       "    <tr>\n",
       "      <th>4</th>\n",
       "      <td>3112</td>\n",
       "      <td>City</td>\n",
       "      <td>1.0</td>\n",
       "      <td>Trip Completed</td>\n",
       "      <td>2016-07-13 08:33:16</td>\n",
       "      <td>2016-07-13 08:33:16</td>\n",
       "      <td>8</td>\n",
       "      <td>13</td>\n",
       "    </tr>\n",
       "  </tbody>\n",
       "</table>\n",
       "</div>"
      ],
      "text/plain": [
       "   Request id Pickup point  Driver id          Status   Request timestamp  \\\n",
       "0         619      Airport        1.0  Trip Completed 2016-07-11 11:51:00   \n",
       "1         867      Airport        1.0  Trip Completed 2016-07-11 17:57:00   \n",
       "2        1807         City        1.0  Trip Completed 2016-07-12 09:17:00   \n",
       "3        2532      Airport        1.0  Trip Completed 2016-07-12 21:08:00   \n",
       "4        3112         City        1.0  Trip Completed 2016-07-13 08:33:16   \n",
       "\n",
       "       Drop timestamp  req_hour  req_day  \n",
       "0 2016-07-11 11:51:00        11       11  \n",
       "1 2016-07-11 17:57:00        17       11  \n",
       "2 2016-07-12 09:17:00         9       12  \n",
       "3 2016-07-12 21:08:00        21       12  \n",
       "4 2016-07-13 08:33:16         8       13  "
      ]
     },
     "execution_count": 27,
     "metadata": {},
     "output_type": "execute_result"
    }
   ],
   "source": [
    "df.head()"
   ]
  },
  {
   "cell_type": "markdown",
   "metadata": {},
   "source": [
    "**From the below graph we can conclude that most of the trips completed at 5th req_hour and at 18th req_hour mostly cars are not available **"
   ]
  },
  {
   "cell_type": "code",
   "execution_count": 26,
   "metadata": {},
   "outputs": [
    {
     "data": {
      "image/png": "[encoded data removed]",
      "text/plain": [
       "<Figure size 720x432 with 1 Axes>"
      ]
     },
     "metadata": {
      "needs_background": "light"
     },
     "output_type": "display_data"
    }
   ],
   "source": [
    "plt.figure(figsize=(10,6))\n",
    "sns.countplot(x=\"req_hour\",data=df,hue=\"Status\")\n",
    "plt.show()"
   ]
  },
  {
   "cell_type": "code",
   "execution_count": 28,
   "metadata": {},
   "outputs": [
    {
     "data": {
      "text/plain": [
       "15    1381\n",
       "11    1367\n",
       "14    1353\n",
       "13    1337\n",
       "12    1307\n",
       "Name: req_day, dtype: int64"
      ]
     },
     "execution_count": 28,
     "metadata": {},
     "output_type": "execute_result"
    }
   ],
   "source": [
    "df.req_day.value_counts()"
   ]
  },
  {
   "cell_type": "code",
   "execution_count": 31,
   "metadata": {
    "scrolled": false
   },
   "outputs": [
    {
     "name": "stderr",
     "output_type": "stream",
     "text": [
      "C:\\Users\\TOSHIBA\\anaconda3\\lib\\site-packages\\seaborn\\categorical.py:3704: UserWarning: The `factorplot` function has been renamed to `catplot`. The original name will be removed in a future release. Please update your code. Note that the default `kind` in `factorplot` (`'point'`) has changed `'strip'` in `catplot`.\n",
      "  warnings.warn(msg)\n"
     ]
    },
    {
     "data": {
      "text/plain": [
       "<Figure size 576x1440 with 0 Axes>"
      ]
     },
     "metadata": {},
     "output_type": "display_data"
    },
    {
     "data": {
      "image/png": "[encoded data removed]",
      "text/plain": [
       "<Figure size 483.5x1800 with 5 Axes>"
      ]
     },
     "metadata": {
      "needs_background": "light"
     },
     "output_type": "display_data"
    }
   ],
   "source": [
    "sns.factorplot(x=\"req_hour\",data=df,row=\"req_day\",hue=\"Status\",kind=\"count\")\n",
    "plt.show()"
   ]
  },
  {
   "cell_type": "markdown",
   "metadata": {},
   "source": [
    "** From the below graph we can conclude that between 5-10 req_hour mostly pickups are from city \n",
    "and between 17 to 22 req_hour mostly pickups are from Airport**"
   ]
  },
  {
   "cell_type": "code",
   "execution_count": 32,
   "metadata": {},
   "outputs": [
    {
     "data": {
      "image/png": "[encoded data removed]",
      "text/plain": [
       "<Figure size 720x864 with 1 Axes>"
      ]
     },
     "metadata": {
      "needs_background": "light"
     },
     "output_type": "display_data"
    }
   ],
   "source": [
    "plt.figure(figsize=(10,12))\n",
    "sns.countplot(x=\"req_hour\",data=df,hue=\"Pickup point\")\n",
    "plt.show()"
   ]
  },
  {
   "cell_type": "code",
   "execution_count": 71,
   "metadata": {},
   "outputs": [
    {
     "data": {
      "image/png": "[encoded data removed]",
      "text/plain": [
       "<Figure size 430.125x1800 with 5 Axes>"
      ]
     },
     "metadata": {
      "needs_background": "light"
     },
     "output_type": "display_data"
    }
   ],
   "source": [
    "sns.factorplot(x=\"req_hour\",data=df,row=\"req_day\",hue=\"Pickup point\",kind=\"count\")\n",
    "plt.show()"
   ]
  },
  {
   "cell_type": "code",
   "execution_count": 72,
   "metadata": {},
   "outputs": [
    {
     "data": {
      "image/png": "[encoded data removed]",
      "text/plain": [
       "<Figure size 430.125x360 with 1 Axes>"
      ]
     },
     "metadata": {
      "needs_background": "light"
     },
     "output_type": "display_data"
    }
   ],
   "source": [
    "sns.factorplot(x=\"req_hour\",data=df,hue=\"Pickup point\",kind=\"count\")\n",
    "plt.show()"
   ]
  },
  {
   "cell_type": "code",
   "execution_count": 33,
   "metadata": {},
   "outputs": [
    {
     "data": {
      "text/html": [
       "<div>\n",
       "<style scoped>\n",
       "    .dataframe tbody tr th:only-of-type {\n",
       "        vertical-align: middle;\n",
       "    }\n",
       "\n",
       "    .dataframe tbody tr th {\n",
       "        vertical-align: top;\n",
       "    }\n",
       "\n",
       "    .dataframe thead th {\n",
       "        text-align: right;\n",
       "    }\n",
       "</style>\n",
       "<table border=\"1\" class=\"dataframe\">\n",
       "  <thead>\n",
       "    <tr style=\"text-align: right;\">\n",
       "      <th></th>\n",
       "      <th>Request id</th>\n",
       "      <th>Pickup point</th>\n",
       "      <th>Driver id</th>\n",
       "      <th>Status</th>\n",
       "      <th>Request timestamp</th>\n",
       "      <th>Drop timestamp</th>\n",
       "      <th>req_hour</th>\n",
       "      <th>req_day</th>\n",
       "    </tr>\n",
       "  </thead>\n",
       "  <tbody>\n",
       "    <tr>\n",
       "      <th>0</th>\n",
       "      <td>619</td>\n",
       "      <td>Airport</td>\n",
       "      <td>1.0</td>\n",
       "      <td>Trip Completed</td>\n",
       "      <td>2016-07-11 11:51:00</td>\n",
       "      <td>2016-07-11 11:51:00</td>\n",
       "      <td>11</td>\n",
       "      <td>11</td>\n",
       "    </tr>\n",
       "    <tr>\n",
       "      <th>1</th>\n",
       "      <td>867</td>\n",
       "      <td>Airport</td>\n",
       "      <td>1.0</td>\n",
       "      <td>Trip Completed</td>\n",
       "      <td>2016-07-11 17:57:00</td>\n",
       "      <td>2016-07-11 17:57:00</td>\n",
       "      <td>17</td>\n",
       "      <td>11</td>\n",
       "    </tr>\n",
       "    <tr>\n",
       "      <th>2</th>\n",
       "      <td>1807</td>\n",
       "      <td>City</td>\n",
       "      <td>1.0</td>\n",
       "      <td>Trip Completed</td>\n",
       "      <td>2016-07-12 09:17:00</td>\n",
       "      <td>2016-07-12 09:17:00</td>\n",
       "      <td>9</td>\n",
       "      <td>12</td>\n",
       "    </tr>\n",
       "    <tr>\n",
       "      <th>3</th>\n",
       "      <td>2532</td>\n",
       "      <td>Airport</td>\n",
       "      <td>1.0</td>\n",
       "      <td>Trip Completed</td>\n",
       "      <td>2016-07-12 21:08:00</td>\n",
       "      <td>2016-07-12 21:08:00</td>\n",
       "      <td>21</td>\n",
       "      <td>12</td>\n",
       "    </tr>\n",
       "    <tr>\n",
       "      <th>4</th>\n",
       "      <td>3112</td>\n",
       "      <td>City</td>\n",
       "      <td>1.0</td>\n",
       "      <td>Trip Completed</td>\n",
       "      <td>2016-07-13 08:33:16</td>\n",
       "      <td>2016-07-13 08:33:16</td>\n",
       "      <td>8</td>\n",
       "      <td>13</td>\n",
       "    </tr>\n",
       "  </tbody>\n",
       "</table>\n",
       "</div>"
      ],
      "text/plain": [
       "   Request id Pickup point  Driver id          Status   Request timestamp  \\\n",
       "0         619      Airport        1.0  Trip Completed 2016-07-11 11:51:00   \n",
       "1         867      Airport        1.0  Trip Completed 2016-07-11 17:57:00   \n",
       "2        1807         City        1.0  Trip Completed 2016-07-12 09:17:00   \n",
       "3        2532      Airport        1.0  Trip Completed 2016-07-12 21:08:00   \n",
       "4        3112         City        1.0  Trip Completed 2016-07-13 08:33:16   \n",
       "\n",
       "       Drop timestamp  req_hour  req_day  \n",
       "0 2016-07-11 11:51:00        11       11  \n",
       "1 2016-07-11 17:57:00        17       11  \n",
       "2 2016-07-12 09:17:00         9       12  \n",
       "3 2016-07-12 21:08:00        21       12  \n",
       "4 2016-07-13 08:33:16         8       13  "
      ]
     },
     "execution_count": 33,
     "metadata": {},
     "output_type": "execute_result"
    }
   ],
   "source": [
    "df.head()"
   ]
  },
  {
   "cell_type": "code",
   "execution_count": 34,
   "metadata": {},
   "outputs": [],
   "source": [
    "time_slot=[]\n",
    "for i in df.req_hour:\n",
    "    if i < 5 :\n",
    "        time_slot.append(\"Pre_Morning\")\n",
    "    elif i >= 5 and i < 10:\n",
    "        time_slot.append(\"Morning_Rush\")\n",
    "    elif i >=10 and i <17:\n",
    "        time_slot.append(\"Day_time\")\n",
    "    elif i >= 17 and i <22:\n",
    "        time_slot.append(\"Evening_Rush\")\n",
    "    else :\n",
    "        time_slot.append(\"Late_night\")"
   ]
  },
  {
   "cell_type": "code",
   "execution_count": 36,
   "metadata": {},
   "outputs": [
    {
     "data": {
      "text/plain": [
       "6745"
      ]
     },
     "execution_count": 36,
     "metadata": {},
     "output_type": "execute_result"
    }
   ],
   "source": [
    "len(time_slot)"
   ]
  },
  {
   "cell_type": "code",
   "execution_count": 41,
   "metadata": {},
   "outputs": [],
   "source": [
    "df=pd.concat([df,pd.DataFrame(time_slot,columns=[\"Time_Slot\"])],axis=1 )"
   ]
  },
  {
   "cell_type": "code",
   "execution_count": 47,
   "metadata": {},
   "outputs": [
    {
     "data": {
      "text/html": [
       "<div>\n",
       "<style scoped>\n",
       "    .dataframe tbody tr th:only-of-type {\n",
       "        vertical-align: middle;\n",
       "    }\n",
       "\n",
       "    .dataframe tbody tr th {\n",
       "        vertical-align: top;\n",
       "    }\n",
       "\n",
       "    .dataframe thead th {\n",
       "        text-align: right;\n",
       "    }\n",
       "</style>\n",
       "<table border=\"1\" class=\"dataframe\">\n",
       "  <thead>\n",
       "    <tr style=\"text-align: right;\">\n",
       "      <th></th>\n",
       "      <th>Request id</th>\n",
       "      <th>Pickup point</th>\n",
       "      <th>Driver id</th>\n",
       "      <th>Status</th>\n",
       "      <th>Request timestamp</th>\n",
       "      <th>Drop timestamp</th>\n",
       "      <th>req_hour</th>\n",
       "      <th>req_day</th>\n",
       "      <th>Time_Slot</th>\n",
       "    </tr>\n",
       "  </thead>\n",
       "  <tbody>\n",
       "    <tr>\n",
       "      <th>0</th>\n",
       "      <td>619</td>\n",
       "      <td>Airport</td>\n",
       "      <td>1.0</td>\n",
       "      <td>Trip Completed</td>\n",
       "      <td>2016-07-11 11:51:00</td>\n",
       "      <td>2016-07-11 11:51:00</td>\n",
       "      <td>11</td>\n",
       "      <td>11</td>\n",
       "      <td>Day_time</td>\n",
       "    </tr>\n",
       "    <tr>\n",
       "      <th>1</th>\n",
       "      <td>867</td>\n",
       "      <td>Airport</td>\n",
       "      <td>1.0</td>\n",
       "      <td>Trip Completed</td>\n",
       "      <td>2016-07-11 17:57:00</td>\n",
       "      <td>2016-07-11 17:57:00</td>\n",
       "      <td>17</td>\n",
       "      <td>11</td>\n",
       "      <td>Evening_Rush</td>\n",
       "    </tr>\n",
       "    <tr>\n",
       "      <th>2</th>\n",
       "      <td>1807</td>\n",
       "      <td>City</td>\n",
       "      <td>1.0</td>\n",
       "      <td>Trip Completed</td>\n",
       "      <td>2016-07-12 09:17:00</td>\n",
       "      <td>2016-07-12 09:17:00</td>\n",
       "      <td>9</td>\n",
       "      <td>12</td>\n",
       "      <td>Morning_Rush</td>\n",
       "    </tr>\n",
       "    <tr>\n",
       "      <th>3</th>\n",
       "      <td>2532</td>\n",
       "      <td>Airport</td>\n",
       "      <td>1.0</td>\n",
       "      <td>Trip Completed</td>\n",
       "      <td>2016-07-12 21:08:00</td>\n",
       "      <td>2016-07-12 21:08:00</td>\n",
       "      <td>21</td>\n",
       "      <td>12</td>\n",
       "      <td>Evening_Rush</td>\n",
       "    </tr>\n",
       "    <tr>\n",
       "      <th>4</th>\n",
       "      <td>3112</td>\n",
       "      <td>City</td>\n",
       "      <td>1.0</td>\n",
       "      <td>Trip Completed</td>\n",
       "      <td>2016-07-13 08:33:16</td>\n",
       "      <td>2016-07-13 08:33:16</td>\n",
       "      <td>8</td>\n",
       "      <td>13</td>\n",
       "      <td>Morning_Rush</td>\n",
       "    </tr>\n",
       "    <tr>\n",
       "      <th>...</th>\n",
       "      <td>...</td>\n",
       "      <td>...</td>\n",
       "      <td>...</td>\n",
       "      <td>...</td>\n",
       "      <td>...</td>\n",
       "      <td>...</td>\n",
       "      <td>...</td>\n",
       "      <td>...</td>\n",
       "      <td>...</td>\n",
       "    </tr>\n",
       "    <tr>\n",
       "      <th>6740</th>\n",
       "      <td>6745</td>\n",
       "      <td>City</td>\n",
       "      <td>NaN</td>\n",
       "      <td>No Cars Available</td>\n",
       "      <td>2016-07-15 23:49:03</td>\n",
       "      <td>2016-07-15 23:49:03</td>\n",
       "      <td>23</td>\n",
       "      <td>15</td>\n",
       "      <td>Late_night</td>\n",
       "    </tr>\n",
       "    <tr>\n",
       "      <th>6741</th>\n",
       "      <td>6752</td>\n",
       "      <td>Airport</td>\n",
       "      <td>NaN</td>\n",
       "      <td>No Cars Available</td>\n",
       "      <td>2016-07-15 23:50:05</td>\n",
       "      <td>2016-07-15 23:50:05</td>\n",
       "      <td>23</td>\n",
       "      <td>15</td>\n",
       "      <td>Late_night</td>\n",
       "    </tr>\n",
       "    <tr>\n",
       "      <th>6742</th>\n",
       "      <td>6751</td>\n",
       "      <td>City</td>\n",
       "      <td>NaN</td>\n",
       "      <td>No Cars Available</td>\n",
       "      <td>2016-07-15 23:52:06</td>\n",
       "      <td>2016-07-15 23:52:06</td>\n",
       "      <td>23</td>\n",
       "      <td>15</td>\n",
       "      <td>Late_night</td>\n",
       "    </tr>\n",
       "    <tr>\n",
       "      <th>6743</th>\n",
       "      <td>6754</td>\n",
       "      <td>City</td>\n",
       "      <td>NaN</td>\n",
       "      <td>No Cars Available</td>\n",
       "      <td>2016-07-15 23:54:39</td>\n",
       "      <td>2016-07-15 23:54:39</td>\n",
       "      <td>23</td>\n",
       "      <td>15</td>\n",
       "      <td>Late_night</td>\n",
       "    </tr>\n",
       "    <tr>\n",
       "      <th>6744</th>\n",
       "      <td>6753</td>\n",
       "      <td>Airport</td>\n",
       "      <td>NaN</td>\n",
       "      <td>No Cars Available</td>\n",
       "      <td>2016-07-15 23:55:03</td>\n",
       "      <td>2016-07-15 23:55:03</td>\n",
       "      <td>23</td>\n",
       "      <td>15</td>\n",
       "      <td>Late_night</td>\n",
       "    </tr>\n",
       "  </tbody>\n",
       "</table>\n",
       "<p>6745 rows × 9 columns</p>\n",
       "</div>"
      ],
      "text/plain": [
       "      Request id Pickup point  Driver id             Status  \\\n",
       "0            619      Airport        1.0     Trip Completed   \n",
       "1            867      Airport        1.0     Trip Completed   \n",
       "2           1807         City        1.0     Trip Completed   \n",
       "3           2532      Airport        1.0     Trip Completed   \n",
       "4           3112         City        1.0     Trip Completed   \n",
       "...          ...          ...        ...                ...   \n",
       "6740        6745         City        NaN  No Cars Available   \n",
       "6741        6752      Airport        NaN  No Cars Available   \n",
       "6742        6751         City        NaN  No Cars Available   \n",
       "6743        6754         City        NaN  No Cars Available   \n",
       "6744        6753      Airport        NaN  No Cars Available   \n",
       "\n",
       "       Request timestamp      Drop timestamp  req_hour  req_day     Time_Slot  \n",
       "0    2016-07-11 11:51:00 2016-07-11 11:51:00        11       11      Day_time  \n",
       "1    2016-07-11 17:57:00 2016-07-11 17:57:00        17       11  Evening_Rush  \n",
       "2    2016-07-12 09:17:00 2016-07-12 09:17:00         9       12  Morning_Rush  \n",
       "3    2016-07-12 21:08:00 2016-07-12 21:08:00        21       12  Evening_Rush  \n",
       "4    2016-07-13 08:33:16 2016-07-13 08:33:16         8       13  Morning_Rush  \n",
       "...                  ...                 ...       ...      ...           ...  \n",
       "6740 2016-07-15 23:49:03 2016-07-15 23:49:03        23       15    Late_night  \n",
       "6741 2016-07-15 23:50:05 2016-07-15 23:50:05        23       15    Late_night  \n",
       "6742 2016-07-15 23:52:06 2016-07-15 23:52:06        23       15    Late_night  \n",
       "6743 2016-07-15 23:54:39 2016-07-15 23:54:39        23       15    Late_night  \n",
       "6744 2016-07-15 23:55:03 2016-07-15 23:55:03        23       15    Late_night  \n",
       "\n",
       "[6745 rows x 9 columns]"
      ]
     },
     "execution_count": 47,
     "metadata": {},
     "output_type": "execute_result"
    }
   ],
   "source": [
    "df"
   ]
  },
  {
   "cell_type": "code",
   "execution_count": 48,
   "metadata": {},
   "outputs": [
    {
     "data": {
      "text/plain": [
       "Evening_Rush    2342\n",
       "Morning_Rush    2103\n",
       "Day_time        1224\n",
       "Pre_Morning      578\n",
       "Late_night       498\n",
       "Name: Time_Slot, dtype: int64"
      ]
     },
     "execution_count": 48,
     "metadata": {},
     "output_type": "execute_result"
    }
   ],
   "source": [
    "df[\"Time_Slot\"].value_counts()"
   ]
  },
  {
   "cell_type": "markdown",
   "metadata": {},
   "source": [
    "** From below graph we comeup with the insight that during evening rush mostly cars are not available & mostly rides cancelled during morning rush**"
   ]
  },
  {
   "cell_type": "code",
   "execution_count": 49,
   "metadata": {},
   "outputs": [
    {
     "data": {
      "image/png": "[encoded data removed]",
      "text/plain": [
       "<Figure size 720x432 with 1 Axes>"
      ]
     },
     "metadata": {
      "needs_background": "light"
     },
     "output_type": "display_data"
    }
   ],
   "source": [
    "plt.figure(figsize=(10,6))\n",
    "sns.countplot(x=\"Time_Slot\",hue=\"Status\",data=df)\n",
    "plt.show()"
   ]
  },
  {
   "cell_type": "markdown",
   "metadata": {},
   "source": [
    "** From below graph we can conclude that during morning rush most of the rides are from city & most of the rides cancelled are of city too **"
   ]
  },
  {
   "cell_type": "code",
   "execution_count": 51,
   "metadata": {},
   "outputs": [
    {
     "data": {
      "text/plain": [
       "<AxesSubplot:xlabel='Pickup point', ylabel='count'>"
      ]
     },
     "execution_count": 51,
     "metadata": {},
     "output_type": "execute_result"
    },
    {
     "data": {
      "image/png": "[encoded data removed]",
      "text/plain": [
       "<Figure size 432x288 with 1 Axes>"
      ]
     },
     "metadata": {
      "needs_background": "light"
     },
     "output_type": "display_data"
    }
   ],
   "source": [
    "df_morning_rush=df[df['Time_Slot']=='Morning_Rush']\n",
    "sns.countplot(x=\"Pickup point\",hue=\"Status\",data=df_morning_rush)"
   ]
  },
  {
   "cell_type": "markdown",
   "metadata": {},
   "source": [
    "**cancellation of cab as per the pickup location at morning rush hours**"
   ]
  },
  {
   "cell_type": "code",
   "execution_count": 68,
   "metadata": {},
   "outputs": [],
   "source": [
    "df_airport_cancelled= df_morning_rush.loc[(df_morning_rush[\"Pickup point\"]==\"Airport\") & (df_morning_rush[\"Status\"]==\"Cancelled\")]"
   ]
  },
  {
   "cell_type": "code",
   "execution_count": 71,
   "metadata": {},
   "outputs": [
    {
     "data": {
      "text/plain": [
       "23"
      ]
     },
     "execution_count": 71,
     "metadata": {},
     "output_type": "execute_result"
    }
   ],
   "source": [
    "df_airport_cancelled.shape[0]"
   ]
  },
  {
   "cell_type": "code",
   "execution_count": 72,
   "metadata": {},
   "outputs": [],
   "source": [
    "df_city_cancelled=df_morning_rush.loc[(df_morning_rush[\"Pickup point\"]==\"City\") & (df_morning_rush[\"Status\"]==\"Cancelled\")]"
   ]
  },
  {
   "cell_type": "code",
   "execution_count": 73,
   "metadata": {},
   "outputs": [
    {
     "data": {
      "text/plain": [
       "820"
      ]
     },
     "execution_count": 73,
     "metadata": {},
     "output_type": "execute_result"
    }
   ],
   "source": [
    "df_city_cancelled.shape[0]"
   ]
  },
  {
   "cell_type": "markdown",
   "metadata": {},
   "source": [
    "#### cancelled from city= 820 and cancelled from airport =23 during morning rush"
   ]
  },
  {
   "cell_type": "markdown",
   "metadata": {},
   "source": [
    "# Supply and demand"
   ]
  },
  {
   "cell_type": "code",
   "execution_count": 74,
   "metadata": {},
   "outputs": [
    {
     "data": {
      "text/html": [
       "<div>\n",
       "<style scoped>\n",
       "    .dataframe tbody tr th:only-of-type {\n",
       "        vertical-align: middle;\n",
       "    }\n",
       "\n",
       "    .dataframe tbody tr th {\n",
       "        vertical-align: top;\n",
       "    }\n",
       "\n",
       "    .dataframe thead th {\n",
       "        text-align: right;\n",
       "    }\n",
       "</style>\n",
       "<table border=\"1\" class=\"dataframe\">\n",
       "  <thead>\n",
       "    <tr style=\"text-align: right;\">\n",
       "      <th></th>\n",
       "      <th>Request id</th>\n",
       "      <th>Pickup point</th>\n",
       "      <th>Driver id</th>\n",
       "      <th>Status</th>\n",
       "      <th>Request timestamp</th>\n",
       "      <th>Drop timestamp</th>\n",
       "      <th>req_hour</th>\n",
       "      <th>req_day</th>\n",
       "      <th>Time_Slot</th>\n",
       "    </tr>\n",
       "  </thead>\n",
       "  <tbody>\n",
       "    <tr>\n",
       "      <th>2</th>\n",
       "      <td>1807</td>\n",
       "      <td>City</td>\n",
       "      <td>1.0</td>\n",
       "      <td>Trip Completed</td>\n",
       "      <td>2016-07-12 09:17:00</td>\n",
       "      <td>2016-07-12 09:17:00</td>\n",
       "      <td>9</td>\n",
       "      <td>12</td>\n",
       "      <td>Morning_Rush</td>\n",
       "    </tr>\n",
       "    <tr>\n",
       "      <th>4</th>\n",
       "      <td>3112</td>\n",
       "      <td>City</td>\n",
       "      <td>1.0</td>\n",
       "      <td>Trip Completed</td>\n",
       "      <td>2016-07-13 08:33:16</td>\n",
       "      <td>2016-07-13 08:33:16</td>\n",
       "      <td>8</td>\n",
       "      <td>13</td>\n",
       "      <td>Morning_Rush</td>\n",
       "    </tr>\n",
       "    <tr>\n",
       "      <th>6</th>\n",
       "      <td>4270</td>\n",
       "      <td>Airport</td>\n",
       "      <td>1.0</td>\n",
       "      <td>Trip Completed</td>\n",
       "      <td>2016-07-14 06:15:32</td>\n",
       "      <td>2016-07-14 06:15:32</td>\n",
       "      <td>6</td>\n",
       "      <td>14</td>\n",
       "      <td>Morning_Rush</td>\n",
       "    </tr>\n",
       "    <tr>\n",
       "      <th>7</th>\n",
       "      <td>5510</td>\n",
       "      <td>Airport</td>\n",
       "      <td>1.0</td>\n",
       "      <td>Trip Completed</td>\n",
       "      <td>2016-07-15 05:11:52</td>\n",
       "      <td>2016-07-15 05:11:52</td>\n",
       "      <td>5</td>\n",
       "      <td>15</td>\n",
       "      <td>Morning_Rush</td>\n",
       "    </tr>\n",
       "    <tr>\n",
       "      <th>9</th>\n",
       "      <td>267</td>\n",
       "      <td>City</td>\n",
       "      <td>2.0</td>\n",
       "      <td>Trip Completed</td>\n",
       "      <td>2016-07-11 06:46:00</td>\n",
       "      <td>2016-07-11 06:46:00</td>\n",
       "      <td>6</td>\n",
       "      <td>11</td>\n",
       "      <td>Morning_Rush</td>\n",
       "    </tr>\n",
       "    <tr>\n",
       "      <th>...</th>\n",
       "      <td>...</td>\n",
       "      <td>...</td>\n",
       "      <td>...</td>\n",
       "      <td>...</td>\n",
       "      <td>...</td>\n",
       "      <td>...</td>\n",
       "      <td>...</td>\n",
       "      <td>...</td>\n",
       "      <td>...</td>\n",
       "    </tr>\n",
       "    <tr>\n",
       "      <th>6307</th>\n",
       "      <td>5863</td>\n",
       "      <td>City</td>\n",
       "      <td>NaN</td>\n",
       "      <td>No Cars Available</td>\n",
       "      <td>2016-07-15 09:15:16</td>\n",
       "      <td>2016-07-15 09:15:16</td>\n",
       "      <td>9</td>\n",
       "      <td>15</td>\n",
       "      <td>Morning_Rush</td>\n",
       "    </tr>\n",
       "    <tr>\n",
       "      <th>6308</th>\n",
       "      <td>5882</td>\n",
       "      <td>City</td>\n",
       "      <td>NaN</td>\n",
       "      <td>No Cars Available</td>\n",
       "      <td>2016-07-15 09:32:02</td>\n",
       "      <td>2016-07-15 09:32:02</td>\n",
       "      <td>9</td>\n",
       "      <td>15</td>\n",
       "      <td>Morning_Rush</td>\n",
       "    </tr>\n",
       "    <tr>\n",
       "      <th>6309</th>\n",
       "      <td>5885</td>\n",
       "      <td>City</td>\n",
       "      <td>NaN</td>\n",
       "      <td>No Cars Available</td>\n",
       "      <td>2016-07-15 09:34:14</td>\n",
       "      <td>2016-07-15 09:34:14</td>\n",
       "      <td>9</td>\n",
       "      <td>15</td>\n",
       "      <td>Morning_Rush</td>\n",
       "    </tr>\n",
       "    <tr>\n",
       "      <th>6310</th>\n",
       "      <td>5881</td>\n",
       "      <td>City</td>\n",
       "      <td>NaN</td>\n",
       "      <td>No Cars Available</td>\n",
       "      <td>2016-07-15 09:36:17</td>\n",
       "      <td>2016-07-15 09:36:17</td>\n",
       "      <td>9</td>\n",
       "      <td>15</td>\n",
       "      <td>Morning_Rush</td>\n",
       "    </tr>\n",
       "    <tr>\n",
       "      <th>6311</th>\n",
       "      <td>5889</td>\n",
       "      <td>City</td>\n",
       "      <td>NaN</td>\n",
       "      <td>No Cars Available</td>\n",
       "      <td>2016-07-15 09:38:50</td>\n",
       "      <td>2016-07-15 09:38:50</td>\n",
       "      <td>9</td>\n",
       "      <td>15</td>\n",
       "      <td>Morning_Rush</td>\n",
       "    </tr>\n",
       "  </tbody>\n",
       "</table>\n",
       "<p>2103 rows × 9 columns</p>\n",
       "</div>"
      ],
      "text/plain": [
       "      Request id Pickup point  Driver id             Status  \\\n",
       "2           1807         City        1.0     Trip Completed   \n",
       "4           3112         City        1.0     Trip Completed   \n",
       "6           4270      Airport        1.0     Trip Completed   \n",
       "7           5510      Airport        1.0     Trip Completed   \n",
       "9            267         City        2.0     Trip Completed   \n",
       "...          ...          ...        ...                ...   \n",
       "6307        5863         City        NaN  No Cars Available   \n",
       "6308        5882         City        NaN  No Cars Available   \n",
       "6309        5885         City        NaN  No Cars Available   \n",
       "6310        5881         City        NaN  No Cars Available   \n",
       "6311        5889         City        NaN  No Cars Available   \n",
       "\n",
       "       Request timestamp      Drop timestamp  req_hour  req_day     Time_Slot  \n",
       "2    2016-07-12 09:17:00 2016-07-12 09:17:00         9       12  Morning_Rush  \n",
       "4    2016-07-13 08:33:16 2016-07-13 08:33:16         8       13  Morning_Rush  \n",
       "6    2016-07-14 06:15:32 2016-07-14 06:15:32         6       14  Morning_Rush  \n",
       "7    2016-07-15 05:11:52 2016-07-15 05:11:52         5       15  Morning_Rush  \n",
       "9    2016-07-11 06:46:00 2016-07-11 06:46:00         6       11  Morning_Rush  \n",
       "...                  ...                 ...       ...      ...           ...  \n",
       "6307 2016-07-15 09:15:16 2016-07-15 09:15:16         9       15  Morning_Rush  \n",
       "6308 2016-07-15 09:32:02 2016-07-15 09:32:02         9       15  Morning_Rush  \n",
       "6309 2016-07-15 09:34:14 2016-07-15 09:34:14         9       15  Morning_Rush  \n",
       "6310 2016-07-15 09:36:17 2016-07-15 09:36:17         9       15  Morning_Rush  \n",
       "6311 2016-07-15 09:38:50 2016-07-15 09:38:50         9       15  Morning_Rush  \n",
       "\n",
       "[2103 rows x 9 columns]"
      ]
     },
     "execution_count": 74,
     "metadata": {},
     "output_type": "execute_result"
    }
   ],
   "source": [
    "df_morning_rush"
   ]
  },
  {
   "cell_type": "code",
   "execution_count": 75,
   "metadata": {},
   "outputs": [
    {
     "data": {
      "text/plain": [
       "1677"
      ]
     },
     "execution_count": 75,
     "metadata": {},
     "output_type": "execute_result"
    }
   ],
   "source": [
    "df_morning_rush.loc[(df_morning_rush[\"Pickup point\"]==\"City\")].shape[0]"
   ]
  },
  {
   "cell_type": "code",
   "execution_count": 76,
   "metadata": {},
   "outputs": [
    {
     "data": {
      "text/plain": [
       "472"
      ]
     },
     "execution_count": 76,
     "metadata": {},
     "output_type": "execute_result"
    }
   ],
   "source": [
    "df_morning_rush.loc[(df_morning_rush[\"Pickup point\"]==\"City\") & (df_morning_rush[\"Status\"]==\"Trip Completed\")].shape[0]"
   ]
  },
  {
   "cell_type": "code",
   "execution_count": 77,
   "metadata": {},
   "outputs": [
    {
     "data": {
      "text/plain": [
       "426"
      ]
     },
     "execution_count": 77,
     "metadata": {},
     "output_type": "execute_result"
    }
   ],
   "source": [
    "df_morning_rush.loc[(df_morning_rush[\"Pickup point\"]==\"Airport\")].shape[0]"
   ]
  },
  {
   "cell_type": "code",
   "execution_count": 78,
   "metadata": {},
   "outputs": [
    {
     "data": {
      "text/plain": [
       "382"
      ]
     },
     "execution_count": 78,
     "metadata": {},
     "output_type": "execute_result"
    }
   ],
   "source": [
    "df_morning_rush.loc[(df_morning_rush[\"Pickup point\"]==\"Airport\") & (df_morning_rush[\"Status\"]==\"Trip Completed\")].shape[0]"
   ]
  },
  {
   "cell_type": "markdown",
   "metadata": {},
   "source": [
    "# Supply and Demand for evening rush"
   ]
  },
  {
   "cell_type": "code",
   "execution_count": 79,
   "metadata": {},
   "outputs": [],
   "source": [
    "df_evening_rush=df[df['Time_Slot']=='Evening_Rush']"
   ]
  },
  {
   "cell_type": "code",
   "execution_count": 80,
   "metadata": {},
   "outputs": [],
   "source": [
    "df_city_cancelled=df_evening_rush.loc[(df_evening_rush[\"Pickup point\"]==\"City\") & (df_evening_rush[\"Status\"]==\"Cancelled\")]"
   ]
  },
  {
   "cell_type": "markdown",
   "metadata": {},
   "source": [
    "#### from below graph we can conclude that during the evening rush mostly cars are not available"
   ]
  },
  {
   "cell_type": "code",
   "execution_count": 81,
   "metadata": {},
   "outputs": [
    {
     "data": {
      "text/plain": [
       "<AxesSubplot:xlabel='Pickup point', ylabel='count'>"
      ]
     },
     "execution_count": 81,
     "metadata": {},
     "output_type": "execute_result"
    },
    {
     "data": {
      "image/png": "[encoded data removed]",
      "text/plain": [
       "<Figure size 432x288 with 1 Axes>"
      ]
     },
     "metadata": {
      "needs_background": "light"
     },
     "output_type": "display_data"
    }
   ],
   "source": [
    "sns.countplot(x=\"Pickup point\",hue=\"Status\",data=df_evening_rush)"
   ]
  },
  {
   "cell_type": "code",
   "execution_count": 82,
   "metadata": {},
   "outputs": [
    {
     "data": {
      "text/plain": [
       "60"
      ]
     },
     "execution_count": 82,
     "metadata": {},
     "output_type": "execute_result"
    }
   ],
   "source": [
    "df_city_cancelled.shape[0]"
   ]
  },
  {
   "cell_type": "code",
   "execution_count": 83,
   "metadata": {},
   "outputs": [
    {
     "data": {
      "text/plain": [
       "No Cars Available    1392\n",
       "Trip Completed        784\n",
       "Cancelled             166\n",
       "Name: Status, dtype: int64"
      ]
     },
     "execution_count": 83,
     "metadata": {},
     "output_type": "execute_result"
    }
   ],
   "source": [
    "df_evening_rush[\"Status\"].value_counts()"
   ]
  },
  {
   "cell_type": "code",
   "execution_count": 84,
   "metadata": {},
   "outputs": [
    {
     "data": {
      "text/plain": [
       "542"
      ]
     },
     "execution_count": 84,
     "metadata": {},
     "output_type": "execute_result"
    }
   ],
   "source": [
    "df_evening_rush.loc[(df_evening_rush[\"Pickup point\"]==\"City\")].shape[0]"
   ]
  },
  {
   "cell_type": "code",
   "execution_count": 85,
   "metadata": {},
   "outputs": [
    {
     "data": {
      "text/plain": [
       "411"
      ]
     },
     "execution_count": 85,
     "metadata": {},
     "output_type": "execute_result"
    }
   ],
   "source": [
    "df_evening_rush.loc[(df_evening_rush[\"Pickup point\"]==\"City\") & (df_evening_rush[\"Status\"]==\"Trip Completed\")].shape[0]"
   ]
  },
  {
   "cell_type": "code",
   "execution_count": 86,
   "metadata": {},
   "outputs": [
    {
     "data": {
      "text/plain": [
       "1800"
      ]
     },
     "execution_count": 86,
     "metadata": {},
     "output_type": "execute_result"
    }
   ],
   "source": [
    "df_evening_rush.loc[(df_evening_rush[\"Pickup point\"]==\"Airport\")].shape[0]"
   ]
  },
  {
   "cell_type": "code",
   "execution_count": 87,
   "metadata": {},
   "outputs": [
    {
     "data": {
      "text/plain": [
       "373"
      ]
     },
     "execution_count": 87,
     "metadata": {},
     "output_type": "execute_result"
    }
   ],
   "source": [
    "df_evening_rush.loc[(df_evening_rush[\"Pickup point\"]==\"Airport\") & (df_evening_rush[\"Status\"]==\"Trip Completed\")].shape[0]"
   ]
  },
  {
   "cell_type": "markdown",
   "metadata": {},
   "source": [
    "**cancellation of cab as per the pickup location at evening rush hours**"
   ]
  },
  {
   "cell_type": "code",
   "execution_count": 88,
   "metadata": {},
   "outputs": [
    {
     "data": {
      "text/plain": [
       "106"
      ]
     },
     "execution_count": 88,
     "metadata": {},
     "output_type": "execute_result"
    }
   ],
   "source": [
    "df_evening_rush.loc[(df_evening_rush[\"Pickup point\"]==\"Airport\") & (df_evening_rush[\"Status\"]==\"Cancelled\")].shape[0]"
   ]
  },
  {
   "cell_type": "code",
   "execution_count": 89,
   "metadata": {},
   "outputs": [
    {
     "data": {
      "text/plain": [
       "60"
      ]
     },
     "execution_count": 89,
     "metadata": {},
     "output_type": "execute_result"
    }
   ],
   "source": [
    "df_evening_rush.loc[(df_evening_rush[\"Pickup point\"]==\"City\") & (df_evening_rush[\"Status\"]==\"Cancelled\")].shape[0]"
   ]
  }
 ],
 "metadata": {
  "kernelspec": {
   "display_name": "Python 3",
   "language": "python",
   "name": "python3"
  },
  "language_info": {
   "codemirror_mode": {
    "name": "ipython",
    "version": 3
   },
   "file_extension": ".py",
   "mimetype": "text/x-python",
   "name": "python",
   "nbconvert_exporter": "python",
   "pygments_lexer": "ipython3",
   "version": "3.7.7"
  }
 },
 "nbformat": 4,
 "nbformat_minor": 4
}
